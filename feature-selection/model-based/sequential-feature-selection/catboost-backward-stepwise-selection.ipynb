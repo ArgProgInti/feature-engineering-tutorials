{
 "cells": [
  {
   "cell_type": "markdown",
   "metadata": {},
   "source": [
    "# Backward Stepwise Feature Selection with Catboost"
   ]
  },
  {
   "cell_type": "markdown",
   "metadata": {},
   "source": [
    "This notebook explains how to use feature importance from `catboost` to perform backward stepwise feature selection. The feature importance used is the SHAP importance from a catboost model.\n",
    "\n",
    "This notebook will prune the features to model arrival delay for flights in and out of NYC in 2013. "
   ]
  },
  {
   "cell_type": "markdown",
   "metadata": {},
   "source": [
    "### Packages"
   ]
  },
  {
   "cell_type": "markdown",
   "metadata": {},
   "source": [
    "This tutorial uses:\n",
    "* [pandas](https://pandas.pydata.org/docs/)\n",
    "* [statsmodels](https://www.statsmodels.org/stable/index.html)\n",
    "    * [statsmodels.api](https://www.statsmodels.org/stable/api.html#statsmodels-api)\n",
    "* [numpy](https://numpy.org/doc/stable/)\n",
    "* [scikit-learn](https://scikit-learn.org/stable/)\n",
    "    * [sklearn.metrics](https://scikit-learn.org/stable/modules/model_evaluation.html)\n",
    "    * [sklearn.model_selection](https://scikit-learn.org/stable/modules/generated/sklearn.model_selection.train_test_split.html)\n",
    "* [shap](https://shap.readthedocs.io/en/latest/index.html)\n",
    "* [catboost](https://catboost.ai/docs)"
   ]
  },
  {
   "cell_type": "code",
   "execution_count": 1,
   "metadata": {},
   "outputs": [],
   "source": [
    "import statsmodels.api as sm\n",
    "import pandas as pd\n",
    "import numpy as np\n",
    "from sklearn.metrics import mean_squared_error\n",
    "from sklearn.model_selection import train_test_split\n",
    "import shap\n",
    "\n",
    "from catboost import CatBoostRegressor, Pool"
   ]
  },
  {
   "cell_type": "markdown",
   "metadata": {},
   "source": [
    "## Reading the data"
   ]
  },
  {
   "cell_type": "markdown",
   "metadata": {},
   "source": [
    "The data is from `rdatasets` imported using the Python package `statsmodels`."
   ]
  },
  {
   "cell_type": "code",
   "execution_count": 2,
   "metadata": {},
   "outputs": [
    {
     "name": "stdout",
     "output_type": "stream",
     "text": [
      "<class 'pandas.core.frame.DataFrame'>\n",
      "RangeIndex: 336776 entries, 0 to 336775\n",
      "Data columns (total 19 columns):\n",
      " #   Column          Non-Null Count   Dtype  \n",
      "---  ------          --------------   -----  \n",
      " 0   year            336776 non-null  int64  \n",
      " 1   month           336776 non-null  int64  \n",
      " 2   day             336776 non-null  int64  \n",
      " 3   dep_time        328521 non-null  float64\n",
      " 4   sched_dep_time  336776 non-null  int64  \n",
      " 5   dep_delay       328521 non-null  float64\n",
      " 6   arr_time        328063 non-null  float64\n",
      " 7   sched_arr_time  336776 non-null  int64  \n",
      " 8   arr_delay       327346 non-null  float64\n",
      " 9   carrier         336776 non-null  object \n",
      " 10  flight          336776 non-null  int64  \n",
      " 11  tailnum         334264 non-null  object \n",
      " 12  origin          336776 non-null  object \n",
      " 13  dest            336776 non-null  object \n",
      " 14  air_time        327346 non-null  float64\n",
      " 15  distance        336776 non-null  int64  \n",
      " 16  hour            336776 non-null  int64  \n",
      " 17  minute          336776 non-null  int64  \n",
      " 18  time_hour       336776 non-null  object \n",
      "dtypes: float64(5), int64(9), object(5)\n",
      "memory usage: 48.8+ MB\n"
     ]
    }
   ],
   "source": [
    "df = sm.datasets.get_rdataset('flights', 'nycflights13').data\n",
    "df.info()"
   ]
  },
  {
   "cell_type": "markdown",
   "metadata": {},
   "source": [
    "## Feature Engineering"
   ]
  },
  {
   "cell_type": "markdown",
   "metadata": {},
   "source": [
    "### Handle null values"
   ]
  },
  {
   "cell_type": "markdown",
   "metadata": {},
   "source": [
    "As this model will predict arrival delay, the `Null` values are caused by flights did were cancelled or diverted. These can be excluded from this analysis."
   ]
  },
  {
   "cell_type": "code",
   "execution_count": 3,
   "metadata": {},
   "outputs": [],
   "source": [
    "df.dropna(inplace=True)"
   ]
  },
  {
   "cell_type": "markdown",
   "metadata": {},
   "source": [
    "### Convert the times from floats or ints to hour and minutes"
   ]
  },
  {
   "cell_type": "code",
   "execution_count": 4,
   "metadata": {},
   "outputs": [],
   "source": [
    "df['arr_hour'] = df.arr_time.apply(lambda x: int(np.floor(x/100)))\n",
    "df['arr_minute'] = df.arr_time.apply(lambda x: int(x - np.floor(x/100)*100))\n",
    "df['sched_arr_hour'] = df.sched_arr_time.apply(lambda x: int(np.floor(x/100)))\n",
    "df['sched_arr_minute'] = df.sched_arr_time.apply(lambda x: int(x - np.floor(x/100)*100))\n",
    "df['sched_dep_hour'] = df.sched_dep_time.apply(lambda x: int(np.floor(x/100)))\n",
    "df['sched_dep_minute'] = df.sched_dep_time.apply(lambda x: int(x - np.floor(x/100)*100))\n",
    "df.rename(columns={'hour': 'dep_hour',\n",
    "                   'minute': 'dep_minute'}, inplace=True)"
   ]
  },
  {
   "cell_type": "markdown",
   "metadata": {},
   "source": [
    "## Feature Selection"
   ]
  },
  {
   "cell_type": "markdown",
   "metadata": {},
   "source": [
    "### Define function"
   ]
  },
  {
   "cell_type": "markdown",
   "metadata": {},
   "source": [
    "Function to build the model"
   ]
  },
  {
   "cell_type": "code",
   "execution_count": 5,
   "metadata": {},
   "outputs": [],
   "source": [
    "def build_model(df, target):\n",
    "    \"\"\"\n",
    "    Given the dataframe and target, build and return the model\n",
    "    \"\"\"\n",
    "    # Set up target\n",
    "    y = df[target]\n",
    "    # Set up train-test split\n",
    "    X = df.drop(columns=[target])\n",
    "    X_train, X_test, y_train, y_test = train_test_split(X, y, test_size=.2, random_state=1066)\n",
    "    # Identify the categorical features\n",
    "    categorical_features = X_train.select_dtypes(exclude=[np.number])\n",
    "    # Create training and test pools for catboost\n",
    "    train_pool = Pool(X_train, y_train, categorical_features)\n",
    "    test_pool = Pool(X_test, y_test, categorical_features)\n",
    "    # Fit the model and calculate RMSE\n",
    "    model = CatBoostRegressor(iterations=500, max_depth=5, learning_rate=0.05, random_seed=1066, logging_level='Silent')\n",
    "    model.fit(X_train, y_train, eval_set=test_pool, cat_features=categorical_features, use_best_model=True, early_stopping_rounds=10)\n",
    "    rmse = np.sqrt(mean_squared_error(y_test, model.predict(X_test)))\n",
    "    return rmse, model, X_test"
   ]
  },
  {
   "cell_type": "markdown",
   "metadata": {},
   "source": [
    "Function to return feature to be dropped"
   ]
  },
  {
   "cell_type": "code",
   "execution_count": 6,
   "metadata": {},
   "outputs": [],
   "source": [
    "def get_dropped_feature(model, X_test):\n",
    "    explainer = shap.Explainer(model)\n",
    "    shap_values = explainer(X_test)\n",
    "    feature_importance = shap_values.abs.mean(0).values\n",
    "    importance_df = pd.DataFrame({'features': X_test.columns,\n",
    "                                  'importance': feature_importance})\n",
    "    importance_df.sort_values(by='importance', ascending=False, inplace=True)\n",
    "    return importance_df['features'].iloc[-1]"
   ]
  },
  {
   "cell_type": "markdown",
   "metadata": {},
   "source": [
    "Function that incremental removes the feature with the lowest feature importance as calculated by `catboost` until the **RMSE** stops decreasing."
   ]
  },
  {
   "cell_type": "code",
   "execution_count": 7,
   "metadata": {},
   "outputs": [],
   "source": [
    "def backward_selection(df, target, max_features=None):\n",
    "    \"\"\"\n",
    "    This function uses the SHAP importance from a catboost model\n",
    "    to incrementally remove features from the training set until the RMSE no longer improves.\n",
    "    This function returns the dataframe with the features that give the best RMSE.\n",
    "    Return at most max_features.\n",
    "    \"\"\"\n",
    "    # get baseline RMSE\n",
    "    select_df = df.copy()\n",
    "    total_features = df.shape[1]\n",
    "    rmse, model, X_test = build_model(select_df, target)\n",
    "    print(f\"{rmse} with {select_df.shape[1]}\")\n",
    "    last_rmse = rmse\n",
    "    \n",
    "    # Drop least important feature and recalculate model peformance\n",
    "    if max_features is None:\n",
    "        max_features = total_features-1\n",
    "        \n",
    "    for num_features in range(total_features-1, 1, -1):\n",
    "        # Trim features\n",
    "        dropped_feature = get_dropped_feature(model, X_test)\n",
    "        tmp_df = select_df.drop(columns=[dropped_feature])\n",
    "\n",
    "        # Rerun modeling\n",
    "        rmse, model, X_test = build_model(tmp_df, target)\n",
    "        print(f\"{rmse} with {tmp_df.shape[1]}\")\n",
    "        if (num_features < max_features) and (rmse > last_rmse):\n",
    "            # RMSE increased, return last dataframe\n",
    "            return select_df\n",
    "        else:\n",
    "            # RMSE improved, continue dropping features\n",
    "            last_rmse = rmse\n",
    "            select_df = tmp_df\n",
    "    return select_df"
   ]
  },
  {
   "cell_type": "markdown",
   "metadata": {},
   "source": [
    "### Run stepwise feature selection"
   ]
  },
  {
   "cell_type": "markdown",
   "metadata": {},
   "source": [
    "Call `backward_selection` on the modeling dataframe.  **reduced_df** will contain the selected features and will be our reduced modeling dataset."
   ]
  },
  {
   "cell_type": "code",
   "execution_count": 8,
   "metadata": {},
   "outputs": [
    {
     "name": "stdout",
     "output_type": "stream",
     "text": [
      "11.309300297508369 with 25\n",
      "11.363724303677218 with 24\n",
      "11.398055158351227 with 23\n",
      "11.347547316020568 with 22\n",
      "11.311533268825302 with 21\n",
      "11.343828983988557 with 20\n",
      "11.282547263583197 with 19\n",
      "11.252227369040204 with 18\n",
      "11.315881600344504 with 17\n"
     ]
    },
    {
     "data": {
      "text/plain": [
       "18"
      ]
     },
     "execution_count": 8,
     "metadata": {},
     "output_type": "execute_result"
    }
   ],
   "source": [
    "target = 'arr_delay'\n",
    "reduced_df = backward_selection(df, target, max_features=20)\n",
    "reduced_df.shape[1]"
   ]
  }
 ],
 "metadata": {
  "kernelspec": {
   "display_name": "Python 3",
   "language": "python",
   "name": "python3"
  },
  "language_info": {
   "codemirror_mode": {
    "name": "ipython",
    "version": 3
   },
   "file_extension": ".py",
   "mimetype": "text/x-python",
   "name": "python",
   "nbconvert_exporter": "python",
   "pygments_lexer": "ipython3",
   "version": "3.7.10"
  }
 },
 "nbformat": 4,
 "nbformat_minor": 4
}
