{
 "cells": [
  {
   "cell_type": "markdown",
   "metadata": {},
   "source": [
    "# Feature Selection Using Variance in Scikit-learn"
   ]
  },
  {
   "cell_type": "markdown",
   "metadata": {},
   "source": [
    "This notebook explains how to use low variance to remove features in `scikit-learn`'.\n",
    "\n",
    "This notebook will work with an [OpenML](https://www.openml.org/d/981) dataset to predict who pays for internet with 10108 observations and 69 columns.  "
   ]
  },
  {
   "cell_type": "code",
   "execution_count": 1,
   "metadata": {},
   "outputs": [],
   "source": [
    "import pandas as pd\n",
    "import matplotlib.pyplot as plt\n",
    "import numpy as np\n",
    "from sklearn.datasets import fetch_openml\n",
    "import category_encoders as ce\n",
    "\n",
    "from sklearn.feature_selection import VarianceThreshold"
   ]
  },
  {
   "cell_type": "markdown",
   "metadata": {},
   "source": [
    "## Reading the data"
   ]
  },
  {
   "cell_type": "markdown",
   "metadata": {},
   "source": [
    "The data is from [OpenML](https://www.openml.org/d/981) imported using the Python package `sklearn.datasets`."
   ]
  },
  {
   "cell_type": "code",
   "execution_count": 2,
   "metadata": {},
   "outputs": [
    {
     "name": "stdout",
     "output_type": "stream",
     "text": [
      "<class 'pandas.core.frame.DataFrame'>\n",
      "RangeIndex: 10108 entries, 0 to 10107\n",
      "Data columns (total 69 columns):\n",
      " #   Column                                    Non-Null Count  Dtype   \n",
      "---  ------                                    --------------  -----   \n",
      " 0   Actual_Time                               10108 non-null  category\n",
      " 1   Age                                       10108 non-null  category\n",
      " 2   Community_Building                        10108 non-null  category\n",
      " 3   Community_Membership_Family               10108 non-null  category\n",
      " 4   Community_Membership_Hobbies              10108 non-null  category\n",
      " 5   Community_Membership_None                 10108 non-null  category\n",
      " 6   Community_Membership_Other                10108 non-null  category\n",
      " 7   Community_Membership_Political            10108 non-null  category\n",
      " 8   Community_Membership_Professional         10108 non-null  category\n",
      " 9   Community_Membership_Religious            10108 non-null  category\n",
      " 10  Community_Membership_Support              10108 non-null  category\n",
      " 11  Country                                   10108 non-null  category\n",
      " 12  Disability_Cognitive                      10108 non-null  category\n",
      " 13  Disability_Hearing                        10108 non-null  category\n",
      " 14  Disability_Motor                          10108 non-null  category\n",
      " 15  Disability_Not_Impaired                   10108 non-null  category\n",
      " 16  Disability_Not_Say                        10108 non-null  category\n",
      " 17  Disability_Vision                         10108 non-null  category\n",
      " 18  Education_Attainment                      10108 non-null  category\n",
      " 19  Falsification_of_Information              10108 non-null  category\n",
      " 20  Gender                                    10108 non-null  category\n",
      " 21  Household_Income                          10108 non-null  category\n",
      " 22  How_You_Heard_About_Survey_Banner         10108 non-null  category\n",
      " 23  How_You_Heard_About_Survey_Friend         10108 non-null  category\n",
      " 24  How_You_Heard_About_Survey_Mailing_List   10108 non-null  category\n",
      " 25  How_You_Heard_About_Survey_Others         10108 non-null  category\n",
      " 26  How_You_Heard_About_Survey_Printed_Media  10108 non-null  category\n",
      " 27  How_You_Heard_About_Survey_Remebered      10108 non-null  category\n",
      " 28  How_You_Heard_About_Survey_Search_Engine  10108 non-null  category\n",
      " 29  How_You_Heard_About_Survey_Usenet_News    10108 non-null  category\n",
      " 30  How_You_Heard_About_Survey_WWW_Page       10108 non-null  category\n",
      " 31  Major_Geographical_Location               10108 non-null  category\n",
      " 32  Major_Occupation                          10108 non-null  category\n",
      " 33  Marital_Status                            10108 non-null  category\n",
      " 34  Most_Import_Issue_Facing_the_Internet     10108 non-null  category\n",
      " 35  Opinions_on_Censorship                    10108 non-null  category\n",
      " 36  Primary_Computing_Platform                7409 non-null   category\n",
      " 37  Primary_Language                          10108 non-null  category\n",
      " 38  Primary_Place_of_WWW_Access               10108 non-null  category\n",
      " 39  Race                                      10108 non-null  category\n",
      " 40  Not_Purchasing_Bad_experience             10108 non-null  category\n",
      " 41  Not_Purchasing_Bad_press                  10108 non-null  category\n",
      " 42  Not_Purchasing_Cant_find                  10108 non-null  category\n",
      " 43  Not_Purchasing_Company_policy             10108 non-null  category\n",
      " 44  Not_Purchasing_Easier_locally             10108 non-null  category\n",
      " 45  Not_Purchasing_Enough_info                10108 non-null  category\n",
      " 46  Not_Purchasing_Judge_quality              10108 non-null  category\n",
      " 47  Not_Purchasing_Never_tried                10108 non-null  category\n",
      " 48  Not_Purchasing_No_credit                  10108 non-null  category\n",
      " 49  Not_Purchasing_Not_applicable             10108 non-null  category\n",
      " 50  Not_Purchasing_Not_option                 10108 non-null  category\n",
      " 51  Not_Purchasing_Other                      10108 non-null  category\n",
      " 52  Not_Purchasing_Prefer_people              10108 non-null  category\n",
      " 53  Not_Purchasing_Privacy                    10108 non-null  category\n",
      " 54  Not_Purchasing_Receipt                    10108 non-null  category\n",
      " 55  Not_Purchasing_Security                   10108 non-null  category\n",
      " 56  Not_Purchasing_Too_complicated            10108 non-null  category\n",
      " 57  Not_Purchasing_Uncomfortable              10108 non-null  category\n",
      " 58  Not_Purchasing_Unfamiliar_vendor          10108 non-null  category\n",
      " 59  Registered_to_Vote                        10108 non-null  category\n",
      " 60  Sexual_Preference                         10108 non-null  category\n",
      " 61  Web_Ordering                              10108 non-null  category\n",
      " 62  Web_Page_Creation                         10108 non-null  category\n",
      " 63  Who_Pays_for_Access_Dont_Know             10108 non-null  category\n",
      " 64  Who_Pays_for_Access_Other                 10108 non-null  category\n",
      " 65  Who_Pays_for_Access_Parents               10108 non-null  category\n",
      " 66  Who_Pays_for_Access_School                10108 non-null  category\n",
      " 67  Who_Pays_for_Access_Self                  10108 non-null  category\n",
      " 68  Who_Pays_for_Access_Work                  10108 non-null  category\n",
      "dtypes: category(69)\n",
      "memory usage: 715.7 KB\n"
     ]
    }
   ],
   "source": [
    "data = fetch_openml(name='kdd_internet_usage')\n",
    "df = data.frame\n",
    "df.info()"
   ]
  },
  {
   "cell_type": "markdown",
   "metadata": {},
   "source": [
    "Split the data into target and features"
   ]
  },
  {
   "cell_type": "code",
   "execution_count": 3,
   "metadata": {},
   "outputs": [],
   "source": [
    "target = 'Who_Pays_for_Access_Work'\n",
    "y = df[target]\n",
    "X_cat = data.data.drop(columns=['Who_Pays_for_Access_Dont_Know',\n",
    "       'Who_Pays_for_Access_Other', 'Who_Pays_for_Access_Parents',\n",
    "       'Who_Pays_for_Access_School', 'Who_Pays_for_Access_Self'])"
   ]
  },
  {
   "cell_type": "markdown",
   "metadata": {},
   "source": [
    "Encode the categorical variables prior to feature selection."
   ]
  },
  {
   "cell_type": "code",
   "execution_count": 4,
   "metadata": {},
   "outputs": [],
   "source": [
    "encoder = ce.LeaveOneOutEncoder(return_df=True)\n",
    "X = encoder.fit_transform(X_cat, y)"
   ]
  },
  {
   "cell_type": "markdown",
   "metadata": {},
   "source": [
    "## Feature Selection"
   ]
  },
  {
   "cell_type": "markdown",
   "metadata": {},
   "source": [
    "### Select the top `N`"
   ]
  },
  {
   "cell_type": "markdown",
   "metadata": {},
   "source": [
    "Start with 63 features"
   ]
  },
  {
   "cell_type": "code",
   "execution_count": 5,
   "metadata": {},
   "outputs": [
    {
     "data": {
      "text/plain": [
       "(10108, 63)"
      ]
     },
     "execution_count": 5,
     "metadata": {},
     "output_type": "execute_result"
    }
   ],
   "source": [
    "X.shape"
   ]
  },
  {
   "cell_type": "markdown",
   "metadata": {},
   "source": [
    "Select the those features with a variance greater than `.0025`."
   ]
  },
  {
   "cell_type": "code",
   "execution_count": 13,
   "metadata": {},
   "outputs": [
    {
     "data": {
      "text/plain": [
       "(10108, 18)"
      ]
     },
     "execution_count": 13,
     "metadata": {},
     "output_type": "execute_result"
    }
   ],
   "source": [
    "selector = VarianceThreshold(threshold=0.0025)\n",
    "X_reduced = selector.fit_transform(X, y)\n",
    "X_reduced.shape"
   ]
  },
  {
   "cell_type": "markdown",
   "metadata": {},
   "source": [
    "The function `get_support` can be used to generate the list of features that were kept."
   ]
  },
  {
   "cell_type": "code",
   "execution_count": 14,
   "metadata": {},
   "outputs": [
    {
     "data": {
      "text/plain": [
       "['Actual_Time',\n",
       " 'Age',\n",
       " 'Community_Membership_Professional',\n",
       " 'Country',\n",
       " 'Education_Attainment',\n",
       " 'Falsification_of_Information',\n",
       " 'Household_Income',\n",
       " 'How_You_Heard_About_Survey_Friend',\n",
       " 'How_You_Heard_About_Survey_Mailing_List',\n",
       " 'Major_Geographical_Location',\n",
       " 'Major_Occupation',\n",
       " 'Most_Import_Issue_Facing_the_Internet',\n",
       " 'Primary_Computing_Platform',\n",
       " 'Primary_Language',\n",
       " 'Primary_Place_of_WWW_Access',\n",
       " 'Not_Purchasing_Company_policy',\n",
       " 'Web_Ordering',\n",
       " 'Web_Page_Creation']"
      ]
     },
     "execution_count": 14,
     "metadata": {},
     "output_type": "execute_result"
    }
   ],
   "source": [
    "cols = selector.get_support(indices=True)\n",
    "selected_columns = X.iloc[:,cols].columns.tolist()\n",
    "selected_columns"
   ]
  }
 ],
 "metadata": {
  "kernelspec": {
   "display_name": "Python 3",
   "language": "python",
   "name": "python3"
  },
  "language_info": {
   "codemirror_mode": {
    "name": "ipython",
    "version": 3
   },
   "file_extension": ".py",
   "mimetype": "text/x-python",
   "name": "python",
   "nbconvert_exporter": "python",
   "pygments_lexer": "ipython3",
   "version": "3.7.10"
  }
 },
 "nbformat": 4,
 "nbformat_minor": 4
}
