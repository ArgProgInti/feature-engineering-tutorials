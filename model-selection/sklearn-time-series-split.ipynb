{
 "cells": [
  {
   "cell_type": "markdown",
   "metadata": {},
   "source": [
    "# Scikit-Learn Time Series Split"
   ]
  },
  {
   "cell_type": "markdown",
   "metadata": {},
   "source": [
    "This notebook explains how to generate a time series split from `scikit-learn` to allow out of time validation of machine learning models, why this approach may not be what is needed and how to create true time-based splits with pandas.\n",
    "\n",
    "This notebook will use hourly weather data for multiple weather stations (`origin`) for flights from New York airports in 2013.  "
   ]
  },
  {
   "cell_type": "markdown",
   "metadata": {},
   "source": [
    "### Packages"
   ]
  },
  {
   "cell_type": "markdown",
   "metadata": {},
   "source": [
    "This tutorial uses:\n",
    "* [pandas](https://pandas.pydata.org/docs/)\n",
    "* [statsmodels](https://www.statsmodels.org/stable/index.html)\n",
    "    * [statsmodels.api](https://www.statsmodels.org/stable/api.html#statsmodels-api)\n",
    "* [numpy](https://numpy.org/doc/stable/)\n",
    "* [scikit-learn](https://scikit-learn.org/stable/)\n",
    "    * [sklearn.model_selection](https://scikit-learn.org/stable/modules/generated/sklearn.model_selection.train_test_split.html)"
   ]
  },
  {
   "cell_type": "code",
   "execution_count": 1,
   "metadata": {},
   "outputs": [],
   "source": [
    "import statsmodels.api as sm\n",
    "import pandas as pd\n",
    "import numpy as np\n",
    "from sklearn.model_selection import TimeSeriesSplit"
   ]
  },
  {
   "cell_type": "markdown",
   "metadata": {},
   "source": [
    "## Reading the data"
   ]
  },
  {
   "cell_type": "markdown",
   "metadata": {},
   "source": [
    "The data is from `rdatasets` imported using the Python package `statsmodels`."
   ]
  },
  {
   "cell_type": "code",
   "execution_count": 2,
   "metadata": {},
   "outputs": [
    {
     "name": "stdout",
     "output_type": "stream",
     "text": [
      "<class 'pandas.core.frame.DataFrame'>\n",
      "RangeIndex: 26115 entries, 0 to 26114\n",
      "Data columns (total 15 columns):\n",
      " #   Column      Non-Null Count  Dtype  \n",
      "---  ------      --------------  -----  \n",
      " 0   origin      26115 non-null  object \n",
      " 1   year        26115 non-null  int64  \n",
      " 2   month       26115 non-null  int64  \n",
      " 3   day         26115 non-null  int64  \n",
      " 4   hour        26115 non-null  int64  \n",
      " 5   temp        26114 non-null  float64\n",
      " 6   dewp        26114 non-null  float64\n",
      " 7   humid       26114 non-null  float64\n",
      " 8   wind_dir    25655 non-null  float64\n",
      " 9   wind_speed  26111 non-null  float64\n",
      " 10  wind_gust   5337 non-null   float64\n",
      " 11  precip      26115 non-null  float64\n",
      " 12  pressure    23386 non-null  float64\n",
      " 13  visib       26115 non-null  float64\n",
      " 14  time_hour   26115 non-null  object \n",
      "dtypes: float64(9), int64(4), object(2)\n",
      "memory usage: 3.0+ MB\n"
     ]
    }
   ],
   "source": [
    "df = sm.datasets.get_rdataset('weather', 'nycflights13').data\n",
    "df.info()"
   ]
  },
  {
   "cell_type": "code",
   "execution_count": 3,
   "metadata": {},
   "outputs": [
    {
     "data": {
      "text/plain": [
       "array(['EWR', 'JFK', 'LGA'], dtype=object)"
      ]
     },
     "execution_count": 3,
     "metadata": {},
     "output_type": "execute_result"
    }
   ],
   "source": [
    "df.origin.unique()"
   ]
  },
  {
   "cell_type": "markdown",
   "metadata": {},
   "source": [
    "### Fix dates"
   ]
  },
  {
   "cell_type": "markdown",
   "metadata": {},
   "source": [
    "**time_hour** contains the hour of the observation as a string. Convert it to a datetime as **observation_time**.  **year**, **month**, **day** and **hour** are duplicates and can be dropped from the dataframe."
   ]
  },
  {
   "cell_type": "code",
   "execution_count": 4,
   "metadata": {},
   "outputs": [
    {
     "data": {
      "text/html": [
       "<div>\n",
       "<style scoped>\n",
       "    .dataframe tbody tr th:only-of-type {\n",
       "        vertical-align: middle;\n",
       "    }\n",
       "\n",
       "    .dataframe tbody tr th {\n",
       "        vertical-align: top;\n",
       "    }\n",
       "\n",
       "    .dataframe thead th {\n",
       "        text-align: right;\n",
       "    }\n",
       "</style>\n",
       "<table border=\"1\" class=\"dataframe\">\n",
       "  <thead>\n",
       "    <tr style=\"text-align: right;\">\n",
       "      <th></th>\n",
       "      <th>origin</th>\n",
       "      <th>temp</th>\n",
       "      <th>dewp</th>\n",
       "      <th>humid</th>\n",
       "      <th>wind_dir</th>\n",
       "      <th>wind_speed</th>\n",
       "      <th>wind_gust</th>\n",
       "      <th>precip</th>\n",
       "      <th>pressure</th>\n",
       "      <th>visib</th>\n",
       "      <th>observation_time</th>\n",
       "    </tr>\n",
       "  </thead>\n",
       "  <tbody>\n",
       "    <tr>\n",
       "      <th>0</th>\n",
       "      <td>EWR</td>\n",
       "      <td>39.02</td>\n",
       "      <td>26.06</td>\n",
       "      <td>59.37</td>\n",
       "      <td>270.0</td>\n",
       "      <td>10.35702</td>\n",
       "      <td>NaN</td>\n",
       "      <td>0.0</td>\n",
       "      <td>1012.0</td>\n",
       "      <td>10.0</td>\n",
       "      <td>2013-01-01 01:00:00</td>\n",
       "    </tr>\n",
       "    <tr>\n",
       "      <th>1</th>\n",
       "      <td>EWR</td>\n",
       "      <td>39.02</td>\n",
       "      <td>26.96</td>\n",
       "      <td>61.63</td>\n",
       "      <td>250.0</td>\n",
       "      <td>8.05546</td>\n",
       "      <td>NaN</td>\n",
       "      <td>0.0</td>\n",
       "      <td>1012.3</td>\n",
       "      <td>10.0</td>\n",
       "      <td>2013-01-01 02:00:00</td>\n",
       "    </tr>\n",
       "    <tr>\n",
       "      <th>2</th>\n",
       "      <td>EWR</td>\n",
       "      <td>39.02</td>\n",
       "      <td>28.04</td>\n",
       "      <td>64.43</td>\n",
       "      <td>240.0</td>\n",
       "      <td>11.50780</td>\n",
       "      <td>NaN</td>\n",
       "      <td>0.0</td>\n",
       "      <td>1012.5</td>\n",
       "      <td>10.0</td>\n",
       "      <td>2013-01-01 03:00:00</td>\n",
       "    </tr>\n",
       "    <tr>\n",
       "      <th>3</th>\n",
       "      <td>EWR</td>\n",
       "      <td>39.92</td>\n",
       "      <td>28.04</td>\n",
       "      <td>62.21</td>\n",
       "      <td>250.0</td>\n",
       "      <td>12.65858</td>\n",
       "      <td>NaN</td>\n",
       "      <td>0.0</td>\n",
       "      <td>1012.2</td>\n",
       "      <td>10.0</td>\n",
       "      <td>2013-01-01 04:00:00</td>\n",
       "    </tr>\n",
       "    <tr>\n",
       "      <th>4</th>\n",
       "      <td>EWR</td>\n",
       "      <td>39.02</td>\n",
       "      <td>28.04</td>\n",
       "      <td>64.43</td>\n",
       "      <td>260.0</td>\n",
       "      <td>12.65858</td>\n",
       "      <td>NaN</td>\n",
       "      <td>0.0</td>\n",
       "      <td>1011.9</td>\n",
       "      <td>10.0</td>\n",
       "      <td>2013-01-01 05:00:00</td>\n",
       "    </tr>\n",
       "  </tbody>\n",
       "</table>\n",
       "</div>"
      ],
      "text/plain": [
       "  origin   temp   dewp  humid  wind_dir  wind_speed  wind_gust  precip  \\\n",
       "0    EWR  39.02  26.06  59.37     270.0    10.35702        NaN     0.0   \n",
       "1    EWR  39.02  26.96  61.63     250.0     8.05546        NaN     0.0   \n",
       "2    EWR  39.02  28.04  64.43     240.0    11.50780        NaN     0.0   \n",
       "3    EWR  39.92  28.04  62.21     250.0    12.65858        NaN     0.0   \n",
       "4    EWR  39.02  28.04  64.43     260.0    12.65858        NaN     0.0   \n",
       "\n",
       "   pressure  visib    observation_time  \n",
       "0    1012.0   10.0 2013-01-01 01:00:00  \n",
       "1    1012.3   10.0 2013-01-01 02:00:00  \n",
       "2    1012.5   10.0 2013-01-01 03:00:00  \n",
       "3    1012.2   10.0 2013-01-01 04:00:00  \n",
       "4    1011.9   10.0 2013-01-01 05:00:00  "
      ]
     },
     "execution_count": 4,
     "metadata": {},
     "output_type": "execute_result"
    }
   ],
   "source": [
    "df['observation_time'] = pd.to_datetime(df.time_hour)\n",
    "df.drop(columns=['year', 'month', 'day', 'hour', 'time_hour'], inplace=True)\n",
    "df.head()"
   ]
  },
  {
   "cell_type": "markdown",
   "metadata": {},
   "source": [
    "## Time-based splitting"
   ]
  },
  {
   "cell_type": "markdown",
   "metadata": {},
   "source": [
    "### Scikit-learn TimeSeriesSplit"
   ]
  },
  {
   "cell_type": "markdown",
   "metadata": {},
   "source": [
    "`TimeSeriesSplit` doesn't implement true time series split.  Instead, it assumes that the data contains a single series with evenly spaced observations ordered by the timestamp.  With that data it partitions the first `n` observations into the train set and the remaining test_size into the test set.\n",
    "\n",
    "Note this will not work in this case, as the weather data contains three different weather stations, EWR, JFK and LGA.  While this data could be resorted to be ordered purely by timestamp, as `TimeSeriesSplit` will still split on a row count level, not on a date or time boundary."
   ]
  },
  {
   "cell_type": "code",
   "execution_count": 5,
   "metadata": {},
   "outputs": [
    {
     "name": "stdout",
     "output_type": "stream",
     "text": [
      "Train Split: [ 8705  8706  8707 ... 17407 17408 17409]\n",
      "Test Split: [17410 17411 17412 ... 26112 26113 26114]\n"
     ]
    }
   ],
   "source": [
    "tss = TimeSeriesSplit(n_splits=2)\n",
    "train_splits, test_splits = tss.split(df)\n",
    "train_split = train_splits[1]\n",
    "test_split = test_splits[1]\n",
    "print(\"Train Split:\", train_split)\n",
    "print(\"Test Split:\", test_split)"
   ]
  },
  {
   "cell_type": "code",
   "execution_count": 6,
   "metadata": {},
   "outputs": [
    {
     "name": "stdout",
     "output_type": "stream",
     "text": [
      "Train: ['JFK' 'LGA']\n",
      "Test: ['LGA']\n",
      "Train: 2013-01-01 01:00:00 2013-12-30 18:00:00\n",
      "Test: 2013-01-01 02:00:00 2013-12-30 18:00:00\n"
     ]
    }
   ],
   "source": [
    "train_df = df.iloc[train_split, :]\n",
    "test_df = df.iloc[test_split, :]\n",
    "print(\"Train:\", train_df.origin.unique())\n",
    "print(\"Test:\", test_df.origin.unique())\n",
    "print(\"Train:\", train_df.observation_time.min(), train_df.observation_time.max())\n",
    "print(\"Test:\", test_df.observation_time.min(), test_df.observation_time.max())"
   ]
  },
  {
   "cell_type": "markdown",
   "metadata": {},
   "source": [
    "This is not splitting the data on the time value as we need to conduct this analysis correctly."
   ]
  },
  {
   "cell_type": "markdown",
   "metadata": {},
   "source": [
    "### Time-based splitting with pandas"
   ]
  },
  {
   "cell_type": "markdown",
   "metadata": {},
   "source": [
    "Calculate the date to split on"
   ]
  },
  {
   "cell_type": "code",
   "execution_count": 7,
   "metadata": {},
   "outputs": [
    {
     "name": "stdout",
     "output_type": "stream",
     "text": [
      "Min: 2013-01-01 01:00:00 Max: 2013-12-30 18:00:00\n"
     ]
    }
   ],
   "source": [
    "min_date = df.observation_time.min()\n",
    "max_date = df.observation_time.max()\n",
    "print(\"Min:\", min_date, \"Max:\", max_date)"
   ]
  },
  {
   "cell_type": "markdown",
   "metadata": {},
   "source": [
    "Calculate the train-test cutoff date"
   ]
  },
  {
   "cell_type": "code",
   "execution_count": 8,
   "metadata": {},
   "outputs": [
    {
     "data": {
      "text/plain": [
       "Timestamp('2013-09-30 19:45:00')"
      ]
     },
     "execution_count": 8,
     "metadata": {},
     "output_type": "execute_result"
    }
   ],
   "source": [
    "train_percent = .75\n",
    "time_between = max_date - min_date\n",
    "train_cutoff = min_date + train_percent*time_between\n",
    "train_cutoff"
   ]
  },
  {
   "cell_type": "markdown",
   "metadata": {},
   "source": [
    "Create the train and test dataframes"
   ]
  },
  {
   "cell_type": "code",
   "execution_count": 9,
   "metadata": {},
   "outputs": [
    {
     "name": "stdout",
     "output_type": "stream",
     "text": [
      "Train: ['EWR' 'JFK' 'LGA']\n",
      "Test: ['EWR' 'JFK' 'LGA']\n",
      "Train: 2013-01-01 01:00:00 2013-09-30 19:00:00\n",
      "Test: 2013-09-30 20:00:00 2013-12-30 18:00:00\n"
     ]
    }
   ],
   "source": [
    "train_df = df[df.observation_time <= train_cutoff]\n",
    "test_df = df[df.observation_time > train_cutoff]\n",
    "print(\"Train:\", train_df.origin.unique())\n",
    "print(\"Test:\", test_df.origin.unique())\n",
    "print(\"Train:\", train_df.observation_time.min(), train_df.observation_time.max())\n",
    "print(\"Test:\", test_df.observation_time.min(), test_df.observation_time.max())"
   ]
  },
  {
   "cell_type": "markdown",
   "metadata": {},
   "source": [
    "The train and test datasets now contain all of the observation sites with no overlap in dates.  These can now be used as the train and test sets in machine learning model training."
   ]
  },
  {
   "cell_type": "markdown",
   "metadata": {},
   "source": [
    "#### Alternatively, to specify the number of days in the training set"
   ]
  },
  {
   "cell_type": "code",
   "execution_count": 10,
   "metadata": {},
   "outputs": [
    {
     "data": {
      "text/plain": [
       "363.7083333333333"
      ]
     },
     "execution_count": 10,
     "metadata": {},
     "output_type": "execute_result"
    }
   ],
   "source": [
    "days_between = time_between / np.timedelta64(1, 'D')\n",
    "days_between"
   ]
  },
  {
   "cell_type": "code",
   "execution_count": 11,
   "metadata": {},
   "outputs": [],
   "source": [
    "train_days = 273\n",
    "train_cutoff = min_date + pd.DateOffset(train_days)"
   ]
  },
  {
   "cell_type": "code",
   "execution_count": 12,
   "metadata": {},
   "outputs": [
    {
     "name": "stdout",
     "output_type": "stream",
     "text": [
      "Train: ['EWR' 'JFK' 'LGA']\n",
      "Test: ['EWR' 'JFK' 'LGA']\n",
      "Train: 2013-01-01 01:00:00 2013-10-01 01:00:00\n",
      "Test: 2013-10-01 02:00:00 2013-12-30 18:00:00\n"
     ]
    }
   ],
   "source": [
    "train_df = df[df.observation_time <= train_cutoff]\n",
    "test_df = df[df.observation_time > train_cutoff]\n",
    "print(\"Train:\", train_df.origin.unique())\n",
    "print(\"Test:\", test_df.origin.unique())\n",
    "print(\"Train:\", train_df.observation_time.min(), train_df.observation_time.max())\n",
    "print(\"Test:\", test_df.observation_time.min(), test_df.observation_time.max())"
   ]
  },
  {
   "cell_type": "code",
   "execution_count": null,
   "metadata": {},
   "outputs": [],
   "source": []
  }
 ],
 "metadata": {
  "kernelspec": {
   "display_name": "Python 3",
   "language": "python",
   "name": "python3"
  },
  "language_info": {
   "codemirror_mode": {
    "name": "ipython",
    "version": 3
   },
   "file_extension": ".py",
   "mimetype": "text/x-python",
   "name": "python",
   "nbconvert_exporter": "python",
   "pygments_lexer": "ipython3",
   "version": "3.7.10"
  }
 },
 "nbformat": 4,
 "nbformat_minor": 4
}
