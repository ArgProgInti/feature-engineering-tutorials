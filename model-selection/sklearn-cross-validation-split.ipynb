{
 "cells": [
  {
   "cell_type": "markdown",
   "metadata": {},
   "source": [
    "# Scikit-Learn Cross-Validation Splits"
   ]
  },
  {
   "cell_type": "markdown",
   "metadata": {},
   "source": [
    "This notebook explains how to generate K-folds for cross-validation using `scikit-learn` for evaluation of machine learning models with out of sample data.\n",
    "\n",
    "This notebook will work with an OpenML dataset to predict who pays for internet with 10108 observations and 69 columns."
   ]
  },
  {
   "cell_type": "markdown",
   "metadata": {},
   "source": [
    "### Packages"
   ]
  },
  {
   "cell_type": "markdown",
   "metadata": {},
   "source": [
    "This tutorial uses:\n",
    "* [pandas](https://pandas.pydata.org/docs/)\n",
    "* [scikit-learn](https://scikit-learn.org/stable/)\n",
    "    * [sklearn.datasets](https://scikit-learn.org/stable/datasets.html)\n",
    "    * [sklearn.model_selection](https://scikit-learn.org/stable/modules/generated/sklearn.model_selection.train_test_split.html)"
   ]
  },
  {
   "cell_type": "code",
   "execution_count": 1,
   "metadata": {},
   "outputs": [],
   "source": [
    "from sklearn.datasets import fetch_openml\n",
    "import pandas as pd\n",
    "from sklearn.model_selection import KFold"
   ]
  },
  {
   "cell_type": "markdown",
   "metadata": {},
   "source": [
    "## Reading the data"
   ]
  },
  {
   "cell_type": "markdown",
   "metadata": {},
   "source": [
    "The data is from [OpenML](https://www.openml.org/d/981) imported using the Python package `sklearn.datasets`."
   ]
  },
  {
   "cell_type": "code",
   "execution_count": 2,
   "metadata": {},
   "outputs": [
    {
     "name": "stdout",
     "output_type": "stream",
     "text": [
      "<class 'pandas.core.frame.DataFrame'>\n",
      "RangeIndex: 10108 entries, 0 to 10107\n",
      "Data columns (total 69 columns):\n",
      " #   Column                                    Non-Null Count  Dtype   \n",
      "---  ------                                    --------------  -----   \n",
      " 0   Actual_Time                               10108 non-null  category\n",
      " 1   Age                                       10108 non-null  category\n",
      " 2   Community_Building                        10108 non-null  category\n",
      " 3   Community_Membership_Family               10108 non-null  category\n",
      " 4   Community_Membership_Hobbies              10108 non-null  category\n",
      " 5   Community_Membership_None                 10108 non-null  category\n",
      " 6   Community_Membership_Other                10108 non-null  category\n",
      " 7   Community_Membership_Political            10108 non-null  category\n",
      " 8   Community_Membership_Professional         10108 non-null  category\n",
      " 9   Community_Membership_Religious            10108 non-null  category\n",
      " 10  Community_Membership_Support              10108 non-null  category\n",
      " 11  Country                                   10108 non-null  category\n",
      " 12  Disability_Cognitive                      10108 non-null  category\n",
      " 13  Disability_Hearing                        10108 non-null  category\n",
      " 14  Disability_Motor                          10108 non-null  category\n",
      " 15  Disability_Not_Impaired                   10108 non-null  category\n",
      " 16  Disability_Not_Say                        10108 non-null  category\n",
      " 17  Disability_Vision                         10108 non-null  category\n",
      " 18  Education_Attainment                      10108 non-null  category\n",
      " 19  Falsification_of_Information              10108 non-null  category\n",
      " 20  Gender                                    10108 non-null  category\n",
      " 21  Household_Income                          10108 non-null  category\n",
      " 22  How_You_Heard_About_Survey_Banner         10108 non-null  category\n",
      " 23  How_You_Heard_About_Survey_Friend         10108 non-null  category\n",
      " 24  How_You_Heard_About_Survey_Mailing_List   10108 non-null  category\n",
      " 25  How_You_Heard_About_Survey_Others         10108 non-null  category\n",
      " 26  How_You_Heard_About_Survey_Printed_Media  10108 non-null  category\n",
      " 27  How_You_Heard_About_Survey_Remebered      10108 non-null  category\n",
      " 28  How_You_Heard_About_Survey_Search_Engine  10108 non-null  category\n",
      " 29  How_You_Heard_About_Survey_Usenet_News    10108 non-null  category\n",
      " 30  How_You_Heard_About_Survey_WWW_Page       10108 non-null  category\n",
      " 31  Major_Geographical_Location               10108 non-null  category\n",
      " 32  Major_Occupation                          10108 non-null  category\n",
      " 33  Marital_Status                            10108 non-null  category\n",
      " 34  Most_Import_Issue_Facing_the_Internet     10108 non-null  category\n",
      " 35  Opinions_on_Censorship                    10108 non-null  category\n",
      " 36  Primary_Computing_Platform                7409 non-null   category\n",
      " 37  Primary_Language                          10108 non-null  category\n",
      " 38  Primary_Place_of_WWW_Access               10108 non-null  category\n",
      " 39  Race                                      10108 non-null  category\n",
      " 40  Not_Purchasing_Bad_experience             10108 non-null  category\n",
      " 41  Not_Purchasing_Bad_press                  10108 non-null  category\n",
      " 42  Not_Purchasing_Cant_find                  10108 non-null  category\n",
      " 43  Not_Purchasing_Company_policy             10108 non-null  category\n",
      " 44  Not_Purchasing_Easier_locally             10108 non-null  category\n",
      " 45  Not_Purchasing_Enough_info                10108 non-null  category\n",
      " 46  Not_Purchasing_Judge_quality              10108 non-null  category\n",
      " 47  Not_Purchasing_Never_tried                10108 non-null  category\n",
      " 48  Not_Purchasing_No_credit                  10108 non-null  category\n",
      " 49  Not_Purchasing_Not_applicable             10108 non-null  category\n",
      " 50  Not_Purchasing_Not_option                 10108 non-null  category\n",
      " 51  Not_Purchasing_Other                      10108 non-null  category\n",
      " 52  Not_Purchasing_Prefer_people              10108 non-null  category\n",
      " 53  Not_Purchasing_Privacy                    10108 non-null  category\n",
      " 54  Not_Purchasing_Receipt                    10108 non-null  category\n",
      " 55  Not_Purchasing_Security                   10108 non-null  category\n",
      " 56  Not_Purchasing_Too_complicated            10108 non-null  category\n",
      " 57  Not_Purchasing_Uncomfortable              10108 non-null  category\n",
      " 58  Not_Purchasing_Unfamiliar_vendor          10108 non-null  category\n",
      " 59  Registered_to_Vote                        10108 non-null  category\n",
      " 60  Sexual_Preference                         10108 non-null  category\n",
      " 61  Web_Ordering                              10108 non-null  category\n",
      " 62  Web_Page_Creation                         10108 non-null  category\n",
      " 63  Who_Pays_for_Access_Dont_Know             10108 non-null  category\n",
      " 64  Who_Pays_for_Access_Other                 10108 non-null  category\n",
      " 65  Who_Pays_for_Access_Parents               10108 non-null  category\n",
      " 66  Who_Pays_for_Access_School                10108 non-null  category\n",
      " 67  Who_Pays_for_Access_Self                  10108 non-null  category\n",
      " 68  Who_Pays_for_Access_Work                  10108 non-null  category\n",
      "dtypes: category(69)\n",
      "memory usage: 715.7 KB\n"
     ]
    }
   ],
   "source": [
    "data = fetch_openml(name='kdd_internet_usage', as_frame=True)\n",
    "df = data.frame\n",
    "df.info()"
   ]
  },
  {
   "cell_type": "markdown",
   "metadata": {},
   "source": [
    "Split the data into target and features.\n",
    "\n",
    "Drop target leakage features of other options to pay."
   ]
  },
  {
   "cell_type": "code",
   "execution_count": 3,
   "metadata": {},
   "outputs": [],
   "source": [
    "target = 'Who_Pays_for_Access_Work'\n",
    "y = df[target]\n",
    "X = data.data.drop(columns=['Who_Pays_for_Access_Dont_Know',\n",
    "       'Who_Pays_for_Access_Other', 'Who_Pays_for_Access_Parents',\n",
    "       'Who_Pays_for_Access_School', 'Who_Pays_for_Access_Self'])"
   ]
  },
  {
   "cell_type": "markdown",
   "metadata": {},
   "source": [
    "## Cross-validation splitting"
   ]
  },
  {
   "cell_type": "markdown",
   "metadata": {},
   "source": [
    "Scikit-learn's `KFold` will randomly sample the data into **N** folds (default of 5) that can be used to perform cross-validation during machine learning training."
   ]
  },
  {
   "cell_type": "code",
   "execution_count": 4,
   "metadata": {},
   "outputs": [
    {
     "name": "stdout",
     "output_type": "stream",
     "text": [
      "Train: [    0     1     2 ... 10105 10106 10107] Test: [    9    52    80 ... 10092 10102 10103]\n",
      "Train: [    0     1     2 ... 10105 10106 10107] Test: [   16    20    21 ... 10069 10079 10101]\n",
      "Train: [    0     1     2 ... 10105 10106 10107] Test: [    4    12    22 ... 10066 10074 10076]\n",
      "Train: [    0     1     2 ... 10105 10106 10107] Test: [   13    25    34 ... 10073 10075 10100]\n",
      "Train: [    0     1     2 ... 10105 10106 10107] Test: [    3     6     7 ... 10093 10095 10104]\n",
      "Train: [    1     3     4 ... 10104 10105 10107] Test: [    0     2    18 ... 10045 10096 10106]\n",
      "Train: [    0     1     2 ... 10105 10106 10107] Test: [    8    11    14 ... 10067 10084 10086]\n",
      "Train: [    0     1     2 ... 10105 10106 10107] Test: [   10    30    31 ... 10083 10085 10098]\n",
      "Train: [    0     2     3 ... 10103 10104 10106] Test: [    1     5    19 ... 10097 10105 10107]\n",
      "Train: [    0     1     2 ... 10105 10106 10107] Test: [   15    32    39 ... 10081 10094 10099]\n"
     ]
    }
   ],
   "source": [
    "kf = KFold(n_splits=10, random_state=1066, shuffle=True)\n",
    "for train_index, test_index in kf.split(X):\n",
    "    print(\"Train:\", train_index, \"Test:\", test_index)\n",
    "    X_train = X.iloc[train_index, :]\n",
    "    y_train = y[train_index]\n",
    "    X_test = X.iloc[test_index, :]\n",
    "    y_test = y[test_index]"
   ]
  }
 ],
 "metadata": {
  "kernelspec": {
   "display_name": "Python 3",
   "language": "python",
   "name": "python3"
  },
  "language_info": {
   "codemirror_mode": {
    "name": "ipython",
    "version": 3
   },
   "file_extension": ".py",
   "mimetype": "text/x-python",
   "name": "python",
   "nbconvert_exporter": "python",
   "pygments_lexer": "ipython3",
   "version": "3.7.10"
  }
 },
 "nbformat": 4,
 "nbformat_minor": 4
}
